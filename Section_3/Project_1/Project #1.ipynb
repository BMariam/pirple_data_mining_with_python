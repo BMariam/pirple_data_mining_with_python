{
 "cells": [
  {
   "cell_type": "code",
   "execution_count": 1,
   "metadata": {},
   "outputs": [],
   "source": [
    "import pyspark as ps\n",
    "import seaborn as sns\n",
    "import matplotlib.pyplot as plt\n",
    "from pyspark import SQLContext\n",
    "from pyspark.sql import functions as f\n",
    "\n",
    "spark = ps.sql.SparkSession.builder.master('local') \\\n",
    "    .appName('Project 1').getOrCreate()\n",
    "\n",
    "sc = spark.sparkContext\n",
    "sqlContext = SQLContext(sc)"
   ]
  },
  {
   "cell_type": "code",
   "execution_count": 2,
   "metadata": {},
   "outputs": [
    {
     "name": "stdout",
     "output_type": "stream",
     "text": [
      "+-----------------+----+---+---+---+---+----+------+------+------+----+------+---------+-----+-----+----+--------+----+----+----+------+----+\n",
      "|           PLAYER|TEAM|AGE| GP|  W|  L| MIN|OFFRTG|DEFRTG|NETRTG|AST%|AST/TO|AST RATIO|OREB%|DREB%|REB%|TO RATIO|EFG%| TS%|USG%|  PACE| PIE|\n",
      "+-----------------+----+---+---+---+---+----+------+------+------+----+------+---------+-----+-----+----+--------+----+----+----+------+----+\n",
      "|Russell Westbrook| OKC| 28| 81| 46| 35|34.6| 107.9| 104.6|   3.3|54.3|  1.92|     23.4|  5.3| 27.9|16.7|    12.2|47.6|55.4|40.8|102.31|23.0|\n",
      "| Boban Marjanovic| DET| 28| 35| 16| 19| 8.4| 104.3| 102.4|   1.9| 5.4|   0.9|      5.1| 16.6| 31.3|23.9|     5.7|54.5|60.6|24.8|  97.2|19.6|\n",
      "|Demetrius Jackson| BOS| 22|  5|  1|  4| 3.4| 124.2| 117.8|   6.3|30.0|   0.0|     31.1|  9.1| 11.8|10.3|     0.0|87.5|75.3|17.2| 87.46|19.4|\n",
      "|    Anthony Davis| NOP| 24| 75| 31| 44|36.1| 104.2| 102.5|   1.7|11.0|  0.87|      7.3|  6.7| 26.9|17.0|     8.4|51.8|58.0|32.6|100.19|19.2|\n",
      "|     James Harden| HOU| 27| 81| 54| 27|36.4| 113.6| 107.3|   6.3|50.5|  1.95|     27.6|  3.5| 21.2|12.3|    14.1|52.5|61.3|34.1|102.98|19.0|\n",
      "+-----------------+----+---+---+---+---+----+------+------+------+----+------+---------+-----+-----+----+--------+----+----+----+------+----+\n",
      "only showing top 5 rows\n",
      "\n"
     ]
    }
   ],
   "source": [
    "path = 'nba_2017_pie.csv'\n",
    "df = sqlContext.read.csv(path, header = True, \n",
    "                         quote = '\"', sep = \",\", \n",
    "                         inferSchema = True)\n",
    "df.show(5)"
   ]
  },
  {
   "cell_type": "code",
   "execution_count": 3,
   "metadata": {},
   "outputs": [
    {
     "name": "stdout",
     "output_type": "stream",
     "text": [
      "root\n",
      " |-- PLAYER: string (nullable = true)\n",
      " |-- TEAM: string (nullable = true)\n",
      " |-- AGE: integer (nullable = true)\n",
      " |-- GP: integer (nullable = true)\n",
      " |-- W: integer (nullable = true)\n",
      " |-- L: integer (nullable = true)\n",
      " |-- MIN: double (nullable = true)\n",
      " |-- OFFRTG: double (nullable = true)\n",
      " |-- DEFRTG: double (nullable = true)\n",
      " |-- NETRTG: double (nullable = true)\n",
      " |-- AST%: double (nullable = true)\n",
      " |-- AST/TO: double (nullable = true)\n",
      " |-- AST RATIO: double (nullable = true)\n",
      " |-- OREB%: double (nullable = true)\n",
      " |-- DREB%: double (nullable = true)\n",
      " |-- REB%: double (nullable = true)\n",
      " |-- TO RATIO: double (nullable = true)\n",
      " |-- EFG%: double (nullable = true)\n",
      " |-- TS%: double (nullable = true)\n",
      " |-- USG%: double (nullable = true)\n",
      " |-- PACE: double (nullable = true)\n",
      " |-- PIE: double (nullable = true)\n",
      "\n"
     ]
    }
   ],
   "source": [
    "df.printSchema()"
   ]
  },
  {
   "cell_type": "code",
   "execution_count": 4,
   "metadata": {},
   "outputs": [
    {
     "data": {
      "text/plain": [
       "486"
      ]
     },
     "execution_count": 4,
     "metadata": {},
     "output_type": "execute_result"
    }
   ],
   "source": [
    "df.count()"
   ]
  },
  {
   "cell_type": "code",
   "execution_count": 5,
   "metadata": {},
   "outputs": [
    {
     "name": "stdout",
     "output_type": "stream",
     "text": [
      "30\n"
     ]
    }
   ],
   "source": [
    "team_count = df.select('TEAM').distinct().count()\n",
    "print(team_count)"
   ]
  },
  {
   "cell_type": "code",
   "execution_count": 6,
   "metadata": {},
   "outputs": [
    {
     "name": "stdout",
     "output_type": "stream",
     "text": [
      "+----+\n",
      "|TEAM|\n",
      "+----+\n",
      "| GSW|\n",
      "| DET|\n",
      "| LAL|\n",
      "| NYK|\n",
      "| LAC|\n",
      "+----+\n",
      "only showing top 5 rows\n",
      "\n"
     ]
    }
   ],
   "source": [
    "df.select('TEAM').distinct().show(5)"
   ]
  },
  {
   "cell_type": "code",
   "execution_count": 7,
   "metadata": {},
   "outputs": [],
   "source": [
    "df_pandas = df.toPandas()"
   ]
  },
  {
   "cell_type": "code",
   "execution_count": 8,
   "metadata": {},
   "outputs": [
    {
     "data": {
      "text/plain": [
       "<matplotlib.axes._subplots.AxesSubplot at 0x7f9d5d35ae90>"
      ]
     },
     "execution_count": 8,
     "metadata": {},
     "output_type": "execute_result"
    },
    {
     "data": {
      "image/png": "[encoded data removed]",
      "text/plain": [
       "<Figure size 720x432 with 1 Axes>"
      ]
     },
     "metadata": {
      "needs_background": "light"
     },
     "output_type": "display_data"
    }
   ],
   "source": [
    "plt.figure(figsize = (10, 6))\n",
    "sns.boxplot(x = 'OFFRTG', y = 'DEFRTG', \n",
    "            data = df_pandas[df_pandas['TEAM'] == 'GSW'])"
   ]
  },
  {
   "cell_type": "code",
   "execution_count": 9,
   "metadata": {},
   "outputs": [
    {
     "data": {
      "text/plain": [
       "<matplotlib.axes._subplots.AxesSubplot at 0x7f9d57ec47d0>"
      ]
     },
     "execution_count": 9,
     "metadata": {},
     "output_type": "execute_result"
    },
    {
     "data": {
      "image/png": "[encoded data removed]",
      "text/plain": [
       "<Figure size 720x432 with 1 Axes>"
      ]
     },
     "metadata": {
      "needs_background": "light"
     },
     "output_type": "display_data"
    }
   ],
   "source": [
    "plt.figure(figsize = (10, 6))\n",
    "sns.boxplot(x = 'OFFRTG', y = 'DEFRTG', \n",
    "            data = df_pandas[df_pandas['TEAM'] == 'DET'])"
   ]
  },
  {
   "cell_type": "code",
   "execution_count": 10,
   "metadata": {},
   "outputs": [
    {
     "data": {
      "text/plain": [
       "<matplotlib.axes._subplots.AxesSubplot at 0x7f9d57f79090>"
      ]
     },
     "execution_count": 10,
     "metadata": {},
     "output_type": "execute_result"
    },
    {
     "data": {
      "image/png": "[encoded data removed]",
      "text/plain": [
       "<Figure size 720x432 with 1 Axes>"
      ]
     },
     "metadata": {
      "needs_background": "light"
     },
     "output_type": "display_data"
    }
   ],
   "source": [
    "plt.figure(figsize = (10, 6))\n",
    "sns.boxplot(x = 'OFFRTG', y = 'DEFRTG', \n",
    "            data = df_pandas[df_pandas['TEAM'] == 'LAL'])"
   ]
  },
  {
   "cell_type": "code",
   "execution_count": 11,
   "metadata": {},
   "outputs": [
    {
     "name": "stdout",
     "output_type": "stream",
     "text": [
      "+----+------------------+------------------+\n",
      "|TEAM|       sum(OFFRTG)|       sum(DEFRTG)|\n",
      "+----+------------------+------------------+\n",
      "| GSW|1746.7999999999997|1642.6000000000004|\n",
      "| DET|1551.3000000000002|            1562.4|\n",
      "| LAL|1643.6999999999998|1750.9999999999998|\n",
      "| NYK|1564.2000000000003|1619.9000000000003|\n",
      "| LAC|            1593.7|1584.9999999999998|\n",
      "| UTA|1604.7999999999997|1534.3999999999996|\n",
      "| BOS|            1617.2|1602.3999999999999|\n",
      "| TOR|            1699.4|            1648.3|\n",
      "| SAS|1691.2000000000003|            1612.0|\n",
      "| POR|1475.6000000000001|1490.8999999999996|\n",
      "+----+------------------+------------------+\n",
      "only showing top 10 rows\n",
      "\n"
     ]
    }
   ],
   "source": [
    "overall_performance = df.groupBy('TEAM').sum('OFFRTG', 'DEFRTG')\n",
    "overall_performance.show(10)"
   ]
  },
  {
   "cell_type": "code",
   "execution_count": 12,
   "metadata": {},
   "outputs": [
    {
     "data": {
      "text/plain": [
       "<matplotlib.axes._subplots.AxesSubplot at 0x7f9d57c833d0>"
      ]
     },
     "execution_count": 12,
     "metadata": {},
     "output_type": "execute_result"
    },
    {
     "data": {
      "image/png": "[encoded data removed]",
      "text/plain": [
       "<Figure size 1080x432 with 1 Axes>"
      ]
     },
     "metadata": {
      "needs_background": "light"
     },
     "output_type": "display_data"
    }
   ],
   "source": [
    "plt.figure(figsize = (15, 6))\n",
    "sns.boxplot(x = 'TEAM', y = 'sum(OFFRTG)',\n",
    "            data = overall_performance.toPandas())"
   ]
  },
  {
   "cell_type": "code",
   "execution_count": 13,
   "metadata": {},
   "outputs": [
    {
     "data": {
      "text/plain": [
       "<matplotlib.axes._subplots.AxesSubplot at 0x7f9d57f33fd0>"
      ]
     },
     "execution_count": 13,
     "metadata": {},
     "output_type": "execute_result"
    },
    {
     "data": {
      "image/png": "[encoded data removed]",
      "text/plain": [
       "<Figure size 1080x432 with 1 Axes>"
      ]
     },
     "metadata": {
      "needs_background": "light"
     },
     "output_type": "display_data"
    }
   ],
   "source": [
    "plt.figure(figsize = (15, 6))\n",
    "sns.boxplot(x = 'TEAM', y = 'sum(DEFRTG)',\n",
    "            data = overall_performance.toPandas())"
   ]
  },
  {
   "cell_type": "code",
   "execution_count": 14,
   "metadata": {},
   "outputs": [],
   "source": [
    "from pyspark.sql.types import StructType, \\\n",
    "    StructField, StringType, FloatType\n",
    "\n",
    "schema = StructType([ \\\n",
    "    StructField('Team_1', StringType(), True), \\\n",
    "    StructField('Team_1_Score', FloatType(), True), \\\n",
    "    StructField('Team_2', StringType(), True), \\\n",
    "    StructField('Team_2_Score', FloatType(), True), \\\n",
    "  ])"
   ]
  },
  {
   "cell_type": "code",
   "execution_count": 15,
   "metadata": {
    "scrolled": false
   },
   "outputs": [],
   "source": [
    "teams = overall_performance.select('TEAM').rdd.flatMap(lambda x: x).collect()\n",
    "OFFRTG = overall_performance.select('sum(OFFRTG)').rdd.flatMap(lambda x: x).collect()\n",
    "DEFRTG = overall_performance.select('sum(DEFRTG)').rdd.flatMap(lambda x: x).collect()\n",
    "team1 = []\n",
    "team2 = []\n",
    "team1_score = []\n",
    "team2_score = []\n",
    "for i in range(len(teams)):\n",
    "    for j in range(i + 1, len(teams)):\n",
    "        team1.append(teams[i])\n",
    "        team2.append(teams[j])\n",
    "        team1_score.append(OFFRTG[i] + DEFRTG[i])\n",
    "        team2_score.append(OFFRTG[j] + DEFRTG[j])"
   ]
  },
  {
   "cell_type": "code",
   "execution_count": 16,
   "metadata": {},
   "outputs": [
    {
     "name": "stdout",
     "output_type": "stream",
     "text": [
      "+------+------------+------+------------+\n",
      "|Team_1|Team_1_Score|Team_2|Team_2_Score|\n",
      "+------+------------+------+------------+\n",
      "|   GSW|      3389.4|   DET|      3113.7|\n",
      "|   GSW|      3389.4|   LAL|      3394.7|\n",
      "|   GSW|      3389.4|   NYK|      3184.1|\n",
      "|   GSW|      3389.4|   LAC|      3178.7|\n",
      "|   GSW|      3389.4|   UTA|      3139.2|\n",
      "|   GSW|      3389.4|   BOS|      3219.6|\n",
      "|   GSW|      3389.4|   TOR|      3347.7|\n",
      "|   GSW|      3389.4|   SAS|      3303.2|\n",
      "|   GSW|      3389.4|   POR|      2966.5|\n",
      "|   GSW|      3389.4|   DEN|      3731.0|\n",
      "+------+------------+------+------------+\n",
      "only showing top 10 rows\n",
      "\n"
     ]
    }
   ],
   "source": [
    "data = []\n",
    "for i in range(len(team1)):\n",
    "    data.append((team1[i], team1_score[i], team2[i], team2_score[i]))\n",
    "    \n",
    "new_df = spark.createDataFrame(data = data, schema = schema)\n",
    "new_df.show(10)"
   ]
  },
  {
   "cell_type": "code",
   "execution_count": 17,
   "metadata": {},
   "outputs": [
    {
     "name": "stdout",
     "output_type": "stream",
     "text": [
      "+------+------------+------+------------+---------------------+\n",
      "|Team_1|Team_1_Score|Team_2|Team_2_Score|Team_1_Win_Likelihood|\n",
      "+------+------------+------+------------+---------------------+\n",
      "|   GSW|      3389.4|   DET|      3113.7|   0.5211975989814953|\n",
      "|   GSW|      3389.4|   LAL|      3394.7|  0.49960939513032976|\n",
      "|   GSW|      3389.4|   NYK|      3184.1|   0.5156157149682437|\n",
      "|   GSW|      3389.4|   LAC|      3178.7|   0.5160396619907953|\n",
      "|   GSW|      3389.4|   UTA|      3139.2|   0.5191618578472185|\n",
      "|   GSW|      3389.4|   BOS|      3219.6|   0.5128461041524814|\n",
      "|   GSW|      3389.4|   TOR|      3347.7|   0.5030948180767931|\n",
      "|   GSW|      3389.4|   SAS|      3303.2|   0.5064399635675015|\n",
      "|   GSW|      3389.4|   POR|      2966.5|   0.5332682947215551|\n",
      "|   GSW|      3389.4|   DEN|      3731.0|  0.47601257637623634|\n",
      "+------+------------+------+------------+---------------------+\n",
      "only showing top 10 rows\n",
      "\n"
     ]
    }
   ],
   "source": [
    "new_df = new_df.withColumn('Team_1_Win_Likelihood', \n",
    "                  (new_df['Team_1_Score'] / (new_df['Team_1_Score'] + new_df['Team_2_Score'])))\n",
    "new_df.show(10)"
   ]
  },
  {
   "cell_type": "code",
   "execution_count": 18,
   "metadata": {},
   "outputs": [
    {
     "name": "stdout",
     "output_type": "stream",
     "text": [
      "+------+------------+------+------------+---------------------+------+\n",
      "|Team_1|Team_1_Score|Team_2|Team_2_Score|Team_1_Win_Likelihood|Winner|\n",
      "+------+------------+------+------------+---------------------+------+\n",
      "|   GSW|      3389.4|   DET|      3113.7|   0.5211975989814953|   GSW|\n",
      "|   GSW|      3389.4|   LAL|      3394.7|  0.49960939513032976|   LAL|\n",
      "|   GSW|      3389.4|   NYK|      3184.1|   0.5156157149682437|   GSW|\n",
      "|   GSW|      3389.4|   LAC|      3178.7|   0.5160396619907953|   GSW|\n",
      "|   GSW|      3389.4|   UTA|      3139.2|   0.5191618578472185|   GSW|\n",
      "|   GSW|      3389.4|   BOS|      3219.6|   0.5128461041524814|   GSW|\n",
      "|   GSW|      3389.4|   TOR|      3347.7|   0.5030948180767931|   GSW|\n",
      "|   GSW|      3389.4|   SAS|      3303.2|   0.5064399635675015|   GSW|\n",
      "|   GSW|      3389.4|   POR|      2966.5|   0.5332682947215551|   GSW|\n",
      "|   GSW|      3389.4|   DEN|      3731.0|  0.47601257637623634|   DEN|\n",
      "+------+------------+------+------------+---------------------+------+\n",
      "only showing top 10 rows\n",
      "\n"
     ]
    }
   ],
   "source": [
    "new_df = new_df.withColumn('Winner', \n",
    "                 f.when(f.col('Team_1_Score') > f.col('Team_2_Score'), \\\n",
    "                        f.col('Team_1')).otherwise(f.col('Team_2')))\n",
    "new_df.show(10)"
   ]
  },
  {
   "cell_type": "code",
   "execution_count": 19,
   "metadata": {},
   "outputs": [
    {
     "name": "stdout",
     "output_type": "stream",
     "text": [
      "+------+-----+\n",
      "|Winner|count|\n",
      "+------+-----+\n",
      "|   CLE|   29|\n",
      "|   DAL|   28|\n",
      "|   BKN|   27|\n",
      "|   ORL|   26|\n",
      "|   DEN|   25|\n",
      "|   ATL|   24|\n",
      "|   MIL|   23|\n",
      "|   PHX|   22|\n",
      "|   NOP|   21|\n",
      "|   CHA|   20|\n",
      "|   WAS|   19|\n",
      "|   SAC|   18|\n",
      "|   LAL|   17|\n",
      "|   GSW|   16|\n",
      "|   IND|   15|\n",
      "+------+-----+\n",
      "only showing top 15 rows\n",
      "\n"
     ]
    }
   ],
   "source": [
    "winning_count = new_df.groupBy('Winner').count().sort(f.col('count').desc())\n",
    "winning_count.show(15)"
   ]
  },
  {
   "cell_type": "code",
   "execution_count": 20,
   "metadata": {},
   "outputs": [
    {
     "name": "stdout",
     "output_type": "stream",
     "text": [
      "+------+-----+--------------------------------+\n",
      "|Winner|count|Most_Matchups_Winning_Likelyhood|\n",
      "+------+-----+--------------------------------+\n",
      "|   CLE|   29|                             1.0|\n",
      "|   DAL|   28|              0.9655172413793104|\n",
      "|   BKN|   27|              0.9310344827586207|\n",
      "|   ORL|   26|               0.896551724137931|\n",
      "|   DEN|   25|              0.8620689655172413|\n",
      "|   ATL|   24|              0.8275862068965517|\n",
      "|   MIL|   23|              0.7931034482758621|\n",
      "|   PHX|   22|              0.7586206896551724|\n",
      "|   NOP|   21|              0.7241379310344828|\n",
      "|   CHA|   20|              0.6896551724137931|\n",
      "|   WAS|   19|              0.6551724137931034|\n",
      "|   SAC|   18|              0.6206896551724138|\n",
      "|   LAL|   17|              0.5862068965517241|\n",
      "|   GSW|   16|              0.5517241379310345|\n",
      "|   IND|   15|              0.5172413793103449|\n",
      "+------+-----+--------------------------------+\n",
      "only showing top 15 rows\n",
      "\n"
     ]
    }
   ],
   "source": [
    "winning_count = winning_count.withColumn('Most_Matchups_Winning_Likelyhood', \n",
    "                                         winning_count['count'] / (team_count - 1))\n",
    "winning_count.show(15)"
   ]
  }
 ],
 "metadata": {
  "kernelspec": {
   "display_name": "Python 3",
   "language": "python",
   "name": "python3"
  },
  "language_info": {
   "codemirror_mode": {
    "name": "ipython",
    "version": 3
   },
   "file_extension": ".py",
   "mimetype": "text/x-python",
   "name": "python",
   "nbconvert_exporter": "python",
   "pygments_lexer": "ipython3",
   "version": "3.7.6"
  }
 },
 "nbformat": 4,
 "nbformat_minor": 4
}

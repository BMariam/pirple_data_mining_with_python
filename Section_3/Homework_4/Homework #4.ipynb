{
 "cells": [
  {
   "cell_type": "code",
   "execution_count": 1,
   "metadata": {},
   "outputs": [],
   "source": [
    "import pyspark as ps\n",
    "import seaborn as sns\n",
    "import matplotlib.pyplot as plt\n",
    "from pyspark import SQLContext\n",
    "\n",
    "spark = ps.sql.SparkSession.builder.master('local') \\\n",
    "    .appName('Homework 4').getOrCreate()\n",
    "\n",
    "sc = spark.sparkContext\n",
    "sqlContext = SQLContext(sc)"
   ]
  },
  {
   "cell_type": "code",
   "execution_count": 2,
   "metadata": {},
   "outputs": [
    {
     "name": "stdout",
     "output_type": "stream",
     "text": [
      "+-----------------+----+---+---+---+---+----+------+------+------+----+------+---------+-----+-----+----+--------+----+----+----+------+----+\n",
      "|           PLAYER|TEAM|AGE| GP|  W|  L| MIN|OFFRTG|DEFRTG|NETRTG|AST%|AST/TO|AST RATIO|OREB%|DREB%|REB%|TO RATIO|EFG%| TS%|USG%|  PACE| PIE|\n",
      "+-----------------+----+---+---+---+---+----+------+------+------+----+------+---------+-----+-----+----+--------+----+----+----+------+----+\n",
      "|Russell Westbrook| OKC| 28| 81| 46| 35|34.6| 107.9| 104.6|   3.3|54.3|  1.92|     23.4|  5.3| 27.9|16.7|    12.2|47.6|55.4|40.8|102.31|23.0|\n",
      "| Boban Marjanovic| DET| 28| 35| 16| 19| 8.4| 104.3| 102.4|   1.9| 5.4|   0.9|      5.1| 16.6| 31.3|23.9|     5.7|54.5|60.6|24.8|  97.2|19.6|\n",
      "|Demetrius Jackson| BOS| 22|  5|  1|  4| 3.4| 124.2| 117.8|   6.3|30.0|   0.0|     31.1|  9.1| 11.8|10.3|     0.0|87.5|75.3|17.2| 87.46|19.4|\n",
      "|    Anthony Davis| NOP| 24| 75| 31| 44|36.1| 104.2| 102.5|   1.7|11.0|  0.87|      7.3|  6.7| 26.9|17.0|     8.4|51.8|58.0|32.6|100.19|19.2|\n",
      "|     James Harden| HOU| 27| 81| 54| 27|36.4| 113.6| 107.3|   6.3|50.5|  1.95|     27.6|  3.5| 21.2|12.3|    14.1|52.5|61.3|34.1|102.98|19.0|\n",
      "+-----------------+----+---+---+---+---+----+------+------+------+----+------+---------+-----+-----+----+--------+----+----+----+------+----+\n",
      "only showing top 5 rows\n",
      "\n"
     ]
    }
   ],
   "source": [
    "path = 'nba_2017_pie.csv'\n",
    "df = sqlContext.read.csv(path, header = True, \n",
    "                         quote = '\"', sep = \",\", \n",
    "                         inferSchema = True)\n",
    "df.show(5)"
   ]
  },
  {
   "cell_type": "code",
   "execution_count": 3,
   "metadata": {},
   "outputs": [
    {
     "name": "stdout",
     "output_type": "stream",
     "text": [
      "root\n",
      " |-- PLAYER: string (nullable = true)\n",
      " |-- TEAM: string (nullable = true)\n",
      " |-- AGE: integer (nullable = true)\n",
      " |-- GP: integer (nullable = true)\n",
      " |-- W: integer (nullable = true)\n",
      " |-- L: integer (nullable = true)\n",
      " |-- MIN: double (nullable = true)\n",
      " |-- OFFRTG: double (nullable = true)\n",
      " |-- DEFRTG: double (nullable = true)\n",
      " |-- NETRTG: double (nullable = true)\n",
      " |-- AST%: double (nullable = true)\n",
      " |-- AST/TO: double (nullable = true)\n",
      " |-- AST RATIO: double (nullable = true)\n",
      " |-- OREB%: double (nullable = true)\n",
      " |-- DREB%: double (nullable = true)\n",
      " |-- REB%: double (nullable = true)\n",
      " |-- TO RATIO: double (nullable = true)\n",
      " |-- EFG%: double (nullable = true)\n",
      " |-- TS%: double (nullable = true)\n",
      " |-- USG%: double (nullable = true)\n",
      " |-- PACE: double (nullable = true)\n",
      " |-- PIE: double (nullable = true)\n",
      "\n"
     ]
    }
   ],
   "source": [
    "df.printSchema()"
   ]
  },
  {
   "cell_type": "code",
   "execution_count": 4,
   "metadata": {},
   "outputs": [
    {
     "data": {
      "text/plain": [
       "486"
      ]
     },
     "execution_count": 4,
     "metadata": {},
     "output_type": "execute_result"
    }
   ],
   "source": [
    "df.count()"
   ]
  },
  {
   "cell_type": "code",
   "execution_count": 5,
   "metadata": {
    "scrolled": false
   },
   "outputs": [
    {
     "data": {
      "text/plain": [
       "30"
      ]
     },
     "execution_count": 5,
     "metadata": {},
     "output_type": "execute_result"
    }
   ],
   "source": [
    "df.select('TEAM').distinct().count()"
   ]
  },
  {
   "cell_type": "code",
   "execution_count": 6,
   "metadata": {},
   "outputs": [
    {
     "name": "stdout",
     "output_type": "stream",
     "text": [
      "+----+\n",
      "|TEAM|\n",
      "+----+\n",
      "| GSW|\n",
      "| DET|\n",
      "| LAL|\n",
      "| NYK|\n",
      "| LAC|\n",
      "+----+\n",
      "only showing top 5 rows\n",
      "\n"
     ]
    }
   ],
   "source": [
    "df.select('TEAM').distinct().show(5)"
   ]
  },
  {
   "cell_type": "code",
   "execution_count": 7,
   "metadata": {},
   "outputs": [
    {
     "data": {
      "text/plain": [
       "17"
      ]
     },
     "execution_count": 7,
     "metadata": {},
     "output_type": "execute_result"
    }
   ],
   "source": [
    "df_NOP = df[df['TEAM'] == 'NOP']\n",
    "df_NOP.count()"
   ]
  },
  {
   "cell_type": "code",
   "execution_count": 8,
   "metadata": {},
   "outputs": [],
   "source": [
    "def print_quantiles(df, feature):\n",
    "    min_value = df_NOP.select(feature).rdd.min()[0]\n",
    "    max_value = df_NOP.select(feature).rdd.max()[0]\n",
    "    quantiles = df_NOP.approxQuantile(feature, [0.25, 0.5, 0.75], 0)\n",
    "    \n",
    "    print('min {}: {}'.format(feature, min_value))\n",
    "    print('max {}: {}'.format(feature, max_value))\n",
    "    print('median {}: {}'.format(feature, quantiles[1]))\n",
    "    print('lower quartile {}: {}'.format(feature, quantiles[0]))\n",
    "    print('upper quartile {}: {}'.format(feature, quantiles[2]))"
   ]
  },
  {
   "cell_type": "code",
   "execution_count": 9,
   "metadata": {},
   "outputs": [
    {
     "name": "stdout",
     "output_type": "stream",
     "text": [
      "min W: 1\n",
      "max W: 34\n",
      "median W: 15.0\n",
      "lower quartile W: 9.0\n",
      "upper quartile W: 30.0\n"
     ]
    }
   ],
   "source": [
    "print_quantiles(df_NOP, 'W')"
   ]
  },
  {
   "cell_type": "code",
   "execution_count": 10,
   "metadata": {},
   "outputs": [
    {
     "name": "stdout",
     "output_type": "stream",
     "text": [
      "min OFFRTG: 88.1\n",
      "max OFFRTG: 112.7\n",
      "median OFFRTG: 103.7\n",
      "lower quartile OFFRTG: 99.4\n",
      "upper quartile OFFRTG: 104.3\n"
     ]
    }
   ],
   "source": [
    "print_quantiles(df_NOP, 'OFFRTG')"
   ]
  },
  {
   "cell_type": "code",
   "execution_count": 11,
   "metadata": {},
   "outputs": [
    {
     "name": "stdout",
     "output_type": "stream",
     "text": [
      "min DEFRTG: 102.4\n",
      "max DEFRTG: 116.5\n",
      "median DEFRTG: 106.1\n",
      "lower quartile DEFRTG: 103.5\n",
      "upper quartile DEFRTG: 109.5\n"
     ]
    }
   ],
   "source": [
    "print_quantiles(df_NOP, 'DEFRTG')"
   ]
  },
  {
   "cell_type": "code",
   "execution_count": 12,
   "metadata": {},
   "outputs": [
    {
     "name": "stdout",
     "output_type": "stream",
     "text": [
      "min PIE: 2.0\n",
      "max PIE: 19.2\n",
      "median PIE: 7.3\n",
      "lower quartile PIE: 5.8\n",
      "upper quartile PIE: 10.2\n"
     ]
    }
   ],
   "source": [
    "print_quantiles(df_NOP, 'PIE')"
   ]
  },
  {
   "cell_type": "code",
   "execution_count": 13,
   "metadata": {},
   "outputs": [],
   "source": [
    "df_NOP = df_NOP.toPandas()"
   ]
  },
  {
   "cell_type": "code",
   "execution_count": 14,
   "metadata": {},
   "outputs": [
    {
     "data": {
      "text/plain": [
       "<matplotlib.axes._subplots.AxesSubplot at 0x7fa1ac727710>"
      ]
     },
     "execution_count": 14,
     "metadata": {},
     "output_type": "execute_result"
    },
    {
     "data": {
      "image/png": "[encoded data removed]",
      "text/plain": [
       "<Figure size 576x576 with 1 Axes>"
      ]
     },
     "metadata": {
      "needs_background": "light"
     },
     "output_type": "display_data"
    }
   ],
   "source": [
    "plt.figure(figsize = (8, 8))\n",
    "sns.boxplot(x = df_NOP['OFFRTG'], y = df_NOP['DEFRTG'])"
   ]
  },
  {
   "cell_type": "code",
   "execution_count": 15,
   "metadata": {},
   "outputs": [
    {
     "data": {
      "text/plain": [
       "<matplotlib.axes._subplots.AxesSubplot at 0x7fa1812d3f50>"
      ]
     },
     "execution_count": 15,
     "metadata": {},
     "output_type": "execute_result"
    },
    {
     "data": {
      "image/png": "[encoded data removed]",
      "text/plain": [
       "<Figure size 576x576 with 1 Axes>"
      ]
     },
     "metadata": {
      "needs_background": "light"
     },
     "output_type": "display_data"
    }
   ],
   "source": [
    "plt.figure(figsize = (8, 8))\n",
    "sns.boxplot(x = df_NOP['W'], y = df_NOP['OFFRTG'])"
   ]
  },
  {
   "cell_type": "code",
   "execution_count": 16,
   "metadata": {},
   "outputs": [
    {
     "data": {
      "text/plain": [
       "<matplotlib.axes._subplots.AxesSubplot at 0x7fa1813e2ed0>"
      ]
     },
     "execution_count": 16,
     "metadata": {},
     "output_type": "execute_result"
    },
    {
     "data": {
      "image/png": "[encoded data removed]",
      "text/plain": [
       "<Figure size 576x576 with 1 Axes>"
      ]
     },
     "metadata": {
      "needs_background": "light"
     },
     "output_type": "display_data"
    }
   ],
   "source": [
    "plt.figure(figsize = (8, 8))\n",
    "sns.boxplot(x = df_NOP['PIE'], y = df_NOP['DEFRTG'])"
   ]
  }
 ],
 "metadata": {
  "kernelspec": {
   "display_name": "Python 3",
   "language": "python",
   "name": "python3"
  },
  "language_info": {
   "codemirror_mode": {
    "name": "ipython",
    "version": 3
   },
   "file_extension": ".py",
   "mimetype": "text/x-python",
   "name": "python",
   "nbconvert_exporter": "python",
   "pygments_lexer": "ipython3",
   "version": "3.7.6"
  }
 },
 "nbformat": 4,
 "nbformat_minor": 4
}
